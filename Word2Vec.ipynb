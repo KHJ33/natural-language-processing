{
 "cells": [
  {
   "cell_type": "markdown",
   "id": "cc74a2ce",
   "metadata": {},
   "source": [
    "## Word2vec : CBOW\n",
    "### 어떤 단어를 문맥 안의 여러 주변 단어들을 통해 예측하는 방법  \n",
    "\n",
    "주변(window 사이즈) 통해서 나오는 값을 예측한다.  \n",
    "\n",
    "실제 문장이 : 이제 예측 방법에 대해 조사해보자 일때  \n",
    "'방법'이 나오는 경우는(window 사이즈가 1로 고정) '예측'이 나오면 '방법'이 나온다. '대해'가 나오면 '방법'이 나온다  \n",
    "\n",
    "target 이 '방법' 입력 값이 '예측'과 '대해'가 된다"
   ]
  },
  {
   "cell_type": "markdown",
   "id": "1f08066f",
   "metadata": {},
   "source": [
    "#### 참고 자료\n",
    "https://ronxin.github.io/wevi/"
   ]
  },
  {
   "cell_type": "markdown",
   "id": "32d36a08",
   "metadata": {},
   "source": [
    "### word2vec 은 컴퓨터가 주변 단어와 비슷한 정도를 matrix 를 만들어준다"
   ]
  },
  {
   "cell_type": "code",
   "execution_count": 1,
   "id": "adde7990",
   "metadata": {},
   "outputs": [],
   "source": [
    "from sklearn.feature_extraction.text import CountVectorizer\n",
    "from sklearn.feature_extraction.text import TfidfVectorizer"
   ]
  },
  {
   "cell_type": "code",
   "execution_count": 2,
   "id": "341327ac",
   "metadata": {},
   "outputs": [],
   "source": [
    "sent = (\"휴일 인 오늘 도 서쪽 을 중심 으로 폭염 이 이어졌는데요, 내일 은 반가운 비 소식 이 있습니다.\", \n",
    "        \"폭염 을 피해서 휴일 에 놀러왔다가 갑작스런 비 로 인해 망연자실 하고 있습니다.\")"
   ]
  },
  {
   "cell_type": "code",
   "execution_count": 3,
   "id": "7b286a73",
   "metadata": {},
   "outputs": [],
   "source": [
    "tfidf_vectorizer = TfidfVectorizer()\n",
    "tfidf_vectorizer.fit(sent)\n",
    "\n",
    "TDM = tfidf_vectorizer.transform(sent).toarray()"
   ]
  },
  {
   "cell_type": "code",
   "execution_count": 5,
   "id": "ab0272cb",
   "metadata": {},
   "outputs": [
    {
     "data": {
      "text/plain": [
       "{'휴일': 16,\n",
       " '오늘': 7,\n",
       " '서쪽': 5,\n",
       " '중심': 12,\n",
       " '으로': 8,\n",
       " '폭염': 13,\n",
       " '이어졌는데요': 9,\n",
       " '내일': 1,\n",
       " '반가운': 4,\n",
       " '소식': 6,\n",
       " '있습니다': 11,\n",
       " '피해서': 14,\n",
       " '놀러왔다가': 2,\n",
       " '갑작스런': 0,\n",
       " '인해': 10,\n",
       " '망연자실': 3,\n",
       " '하고': 15}"
      ]
     },
     "execution_count": 5,
     "metadata": {},
     "output_type": "execute_result"
    }
   ],
   "source": [
    "tfidf_vectorizer.vocabulary_"
   ]
  },
  {
   "cell_type": "code",
   "execution_count": 4,
   "id": "43e09296",
   "metadata": {},
   "outputs": [
    {
     "data": {
      "text/plain": [
       "array([[0.        , 0.32412345, 0.        , 0.        , 0.32412345,\n",
       "        0.32412345, 0.32412345, 0.32412345, 0.32412345, 0.32412345,\n",
       "        0.        , 0.2306165 , 0.32412345, 0.2306165 , 0.        ,\n",
       "        0.        , 0.2306165 ],\n",
       "       [0.36469323, 0.        , 0.36469323, 0.36469323, 0.        ,\n",
       "        0.        , 0.        , 0.        , 0.        , 0.        ,\n",
       "        0.36469323, 0.25948224, 0.        , 0.25948224, 0.36469323,\n",
       "        0.36469323, 0.25948224]])"
      ]
     },
     "execution_count": 4,
     "metadata": {},
     "output_type": "execute_result"
    }
   ],
   "source": [
    "TDM"
   ]
  },
  {
   "cell_type": "markdown",
   "id": "e6407aae",
   "metadata": {},
   "source": [
    "## TDM 매칭 확인"
   ]
  },
  {
   "cell_type": "code",
   "execution_count": 7,
   "id": "e280ce84",
   "metadata": {},
   "outputs": [
    {
     "name": "stdout",
     "output_type": "stream",
     "text": [
      "{'갑작스런': 1.4054651081081644, '내일': 1.4054651081081644, '놀러왔다가': 1.4054651081081644, '망연자실': 1.4054651081081644, '반가운': 1.4054651081081644, '서쪽': 1.4054651081081644, '소식': 1.4054651081081644, '오늘': 1.4054651081081644, '으로': 1.4054651081081644, '이어졌는데요': 1.4054651081081644, '인해': 1.4054651081081644, '있습니다': 1.0, '중심': 1.4054651081081644, '폭염': 1.0, '피해서': 1.4054651081081644, '하고': 1.4054651081081644, '휴일': 1.0}\n"
     ]
    }
   ],
   "source": [
    "print(dict(zip(tfidf_vectorizer.get_feature_names(), tfidf_vectorizer.idf_)))"
   ]
  },
  {
   "cell_type": "markdown",
   "id": "3f5bc684",
   "metadata": {},
   "source": [
    "## 유사도"
   ]
  },
  {
   "cell_type": "code",
   "execution_count": 16,
   "id": "aacc08cc",
   "metadata": {},
   "outputs": [],
   "source": [
    "# 유사도 모듈 선언\n",
    "from sklearn.metrics import jaccard_score\n",
    "from sklearn.metrics.pairwise import cosine_similarity, euclidean_distances, manhattan_distances"
   ]
  },
  {
   "cell_type": "code",
   "execution_count": 10,
   "id": "b24e5530",
   "metadata": {},
   "outputs": [],
   "source": [
    "import numpy as np"
   ]
  },
  {
   "cell_type": "markdown",
   "id": "2c8d31b2",
   "metadata": {},
   "source": [
    "### jaccard_score\n",
    "두 문장의 길이가 다르더라도 가능하다"
   ]
  },
  {
   "cell_type": "code",
   "execution_count": 13,
   "id": "8082f302",
   "metadata": {},
   "outputs": [
    {
     "data": {
      "text/plain": [
       "0.5"
      ]
     },
     "execution_count": 13,
     "metadata": {},
     "output_type": "execute_result"
    }
   ],
   "source": [
    "jaccard_score(np.array([1,1,0,0]), np.array([1,1,0,2]), average = None)[0]"
   ]
  },
  {
   "cell_type": "markdown",
   "id": "043a9982",
   "metadata": {},
   "source": [
    "### cosine_similarity 결과값이 크면 클수록 유사하다\n",
    "문장의 길이가 동일해야 하는 문제점이 있다.  \n",
    "\n",
    "문장의 길이가 다를때 평균을 구해서 유사도를 구한다 -> sent 버트"
   ]
  },
  {
   "cell_type": "code",
   "execution_count": 17,
   "id": "d7a9941d",
   "metadata": {},
   "outputs": [
    {
     "data": {
      "text/plain": [
       "array([[0.17952266]])"
      ]
     },
     "execution_count": 17,
     "metadata": {},
     "output_type": "execute_result"
    }
   ],
   "source": [
    "cosine_similarity(TDM[0:1], TDM[1:2])"
   ]
  },
  {
   "cell_type": "markdown",
   "id": "44b92e62",
   "metadata": {},
   "source": [
    "### euclidean_distances"
   ]
  },
  {
   "cell_type": "code",
   "execution_count": 18,
   "id": "2bd47242",
   "metadata": {},
   "outputs": [
    {
     "data": {
      "text/plain": [
       "array([[1.28099753]])"
      ]
     },
     "execution_count": 18,
     "metadata": {},
     "output_type": "execute_result"
    }
   ],
   "source": [
    "euclidean_distances(TDM[0:1], TDM[1:2])"
   ]
  },
  {
   "cell_type": "markdown",
   "id": "98b9a6ff",
   "metadata": {},
   "source": [
    "### manhattan_distances"
   ]
  },
  {
   "cell_type": "code",
   "execution_count": 19,
   "id": "55db1e34",
   "metadata": {},
   "outputs": [
    {
     "data": {
      "text/plain": [
       "array([[4.86774417]])"
      ]
     },
     "execution_count": 19,
     "metadata": {},
     "output_type": "execute_result"
    }
   ],
   "source": [
    "manhattan_distances(TDM[0:1], TDM[1:2])"
   ]
  },
  {
   "cell_type": "markdown",
   "id": "088b0f1d",
   "metadata": {},
   "source": [
    "### 백터 전체에 관해서 normalization 진행\n",
    "각각의 백터의 대해서 normalization 을 하는것이 정확하다  \n",
    "\n",
    "tfidf_sum_1 = np.sum(TDM[0])  \n",
    "\n",
    "tfidf_norm_1 = TDM[0] / tfidf_sum_1"
   ]
  },
  {
   "cell_type": "code",
   "execution_count": 20,
   "id": "2e7d657c",
   "metadata": {},
   "outputs": [
    {
     "data": {
      "text/plain": [
       "array([[0.20491229]])"
      ]
     },
     "execution_count": 20,
     "metadata": {},
     "output_type": "execute_result"
    }
   ],
   "source": [
    "tfidf_sum = np.sum(TDM)\n",
    "tfidf_norm = TDM / tfidf_sum\n",
    "\n",
    "euclidean_distances(tfidf_norm[0 : 1], tfidf_norm[1 : 2])"
   ]
  },
  {
   "cell_type": "markdown",
   "id": "1ed1ca03",
   "metadata": {},
   "source": [
    "# baBI dataset \n",
    "https://research.facebook.com/downloads/babi\n",
    "\n",
    "# SQuAD dataset\n",
    "https://rajpurkar.github.io/SQuAD-explorer"
   ]
  }
 ],
 "metadata": {
  "kernelspec": {
   "display_name": "Python 3",
   "language": "python",
   "name": "python3"
  },
  "language_info": {
   "codemirror_mode": {
    "name": "ipython",
    "version": 3
   },
   "file_extension": ".py",
   "mimetype": "text/x-python",
   "name": "python",
   "nbconvert_exporter": "python",
   "pygments_lexer": "ipython3",
   "version": "3.6.13"
  }
 },
 "nbformat": 4,
 "nbformat_minor": 5
}
