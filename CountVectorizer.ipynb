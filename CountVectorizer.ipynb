{
 "cells": [
  {
   "cell_type": "markdown",
   "id": "70f4e350",
   "metadata": {},
   "source": [
    "# CountVectorizer\n",
    "문장에서 중요한 단어는 무엇일까 ?  \n",
    "\n",
    "단어의 빈도수가 높은것이 제일 중요한 단어가 아닐까?"
   ]
  },
  {
   "cell_type": "markdown",
   "id": "b4f4efbc",
   "metadata": {},
   "source": [
    "## One - hot - encoding 문제점\n",
    "1. 차원이 너무 많아진다\n",
    "2. Sparsity => 하나만 1이고 나머지는 전부 0\n",
    "3. [man, woman, king, queen] 예제에서 유사관계가 man - king : 0, man - queen : 0 으로 나오는 문제점 발생"
   ]
  },
  {
   "cell_type": "markdown",
   "id": "e3262e4b",
   "metadata": {},
   "source": [
    "## Word representation : Count - based - method\n",
    "\n",
    "윈도우 크기 (N = 1) 에 따라서 단어를 기준으로 N 만큼 떨어진 단어의 갯수를 샌다.\n",
    "\n",
    "* I like deep learning\n",
    "* I like NLP\n",
    "* I enjoy flying\n",
    "\n",
    "카운트 | i | like | enjoy | deep | learning | NLP | flying\n",
    "I  \n",
    "\n",
    "like  \n",
    "\n",
    "enjoy  \n",
    "\n",
    "deep  \n",
    "\n",
    "learning  \n",
    "\n",
    "NLP  \n",
    "\n",
    "flying"
   ]
  },
  {
   "cell_type": "code",
   "execution_count": 1,
   "id": "ef1eb49b",
   "metadata": {},
   "outputs": [],
   "source": [
    "from sklearn.feature_extraction.text import CountVectorizer"
   ]
  },
  {
   "cell_type": "markdown",
   "id": "bb3e0579",
   "metadata": {},
   "source": [
    "### 데이터 생성"
   ]
  },
  {
   "cell_type": "code",
   "execution_count": 8,
   "id": "eef01ac0",
   "metadata": {},
   "outputs": [],
   "source": [
    "text_data = ['나는 배가 고프다', '내일 점심 뭐먹지', '내일 공부 해야겠다', '점심 먹고 공부 해야지']"
   ]
  },
  {
   "cell_type": "code",
   "execution_count": 9,
   "id": "69d13c78",
   "metadata": {},
   "outputs": [
    {
     "data": {
      "text/plain": [
       "CountVectorizer()"
      ]
     },
     "execution_count": 9,
     "metadata": {},
     "output_type": "execute_result"
    }
   ],
   "source": [
    "count_vectorizer = CountVectorizer()\n",
    "count_vectorizer.fit(text_data)"
   ]
  },
  {
   "cell_type": "code",
   "execution_count": 10,
   "id": "f71bf9d6",
   "metadata": {},
   "outputs": [
    {
     "data": {
      "text/plain": [
       "{'나는': 2,\n",
       " '배가': 6,\n",
       " '고프다': 0,\n",
       " '내일': 3,\n",
       " '점심': 7,\n",
       " '뭐먹지': 5,\n",
       " '공부': 1,\n",
       " '해야겠다': 8,\n",
       " '먹고': 4,\n",
       " '해야지': 9}"
      ]
     },
     "execution_count": 10,
     "metadata": {},
     "output_type": "execute_result"
    }
   ],
   "source": [
    "count_vectorizer.vocabulary_"
   ]
  },
  {
   "cell_type": "markdown",
   "id": "f4e7f31d",
   "metadata": {},
   "source": [
    "#### 나온 빈도수 숫자가 배열의 index 번호로 들어간다.\n",
    "ex) '나는' 배열의 2 index에 들어간다"
   ]
  },
  {
   "cell_type": "code",
   "execution_count": 11,
   "id": "9e8c137b",
   "metadata": {},
   "outputs": [
    {
     "data": {
      "text/plain": [
       "array([[1, 0, 1, 0, 0, 0, 1, 0, 0, 0]])"
      ]
     },
     "execution_count": 11,
     "metadata": {},
     "output_type": "execute_result"
    }
   ],
   "source": [
    "count_vectorizer.transform([text_data[0]]).toarray()"
   ]
  },
  {
   "cell_type": "markdown",
   "id": "1b55f966",
   "metadata": {},
   "source": [
    "## 단어 - 문서행렬 (Term - Document matrix, TDM)\n",
    "## 문서 - 단어행렬 (Document - Term , DTM)\n",
    "\n",
    "단어가 행으로 문서 번호가 열로 들어오면 TDM  \n",
    "-> 형용사 , 부사 등 이 제일 많이 나올수 있다\n",
    "  \n",
    "    \n",
    "  \n",
    "  \n",
    "## 해결 방안으로 TF - IDF\n",
    "W(x,y) = tf(x,y) * log(N / df(x))  \n",
    "전체 문장에서 동일하게 많이 나오면 줄어들게 된다."
   ]
  },
  {
   "cell_type": "code",
   "execution_count": 12,
   "id": "0a8d8a3d",
   "metadata": {},
   "outputs": [],
   "source": [
    "from sklearn.feature_extraction.text import TfidfVectorizer"
   ]
  },
  {
   "cell_type": "code",
   "execution_count": 13,
   "id": "842d18a8",
   "metadata": {},
   "outputs": [
    {
     "data": {
      "text/plain": [
       "TfidfVectorizer()"
      ]
     },
     "execution_count": 13,
     "metadata": {},
     "output_type": "execute_result"
    }
   ],
   "source": [
    "tfidf_vectorizer = TfidfVectorizer()\n",
    "text_data = ['나는 배가 고프다', '내일 점심 뭐먹지', '내일 공부 해야겠다', '점심 먹고 공부 해야지']\n",
    "\n",
    "tfidf_vectorizer.fit(text_data)"
   ]
  },
  {
   "cell_type": "code",
   "execution_count": 14,
   "id": "4dbe2dfb",
   "metadata": {},
   "outputs": [
    {
     "data": {
      "text/plain": [
       "{'나는': 2,\n",
       " '배가': 6,\n",
       " '고프다': 0,\n",
       " '내일': 3,\n",
       " '점심': 7,\n",
       " '뭐먹지': 5,\n",
       " '공부': 1,\n",
       " '해야겠다': 8,\n",
       " '먹고': 4,\n",
       " '해야지': 9}"
      ]
     },
     "execution_count": 14,
     "metadata": {},
     "output_type": "execute_result"
    }
   ],
   "source": [
    "tfidf_vectorizer.vocabulary_"
   ]
  },
  {
   "cell_type": "code",
   "execution_count": 15,
   "id": "de2e4ea3",
   "metadata": {},
   "outputs": [
    {
     "data": {
      "text/plain": [
       "array([[0.57735027, 0.        , 0.57735027, 0.        , 0.        ,\n",
       "        0.        , 0.57735027, 0.        , 0.        , 0.        ]])"
      ]
     },
     "execution_count": 15,
     "metadata": {},
     "output_type": "execute_result"
    }
   ],
   "source": [
    "tfidf_vectorizer.transform([text_data[0]]).toarray()"
   ]
  }
 ],
 "metadata": {
  "kernelspec": {
   "display_name": "Python 3",
   "language": "python",
   "name": "python3"
  },
  "language_info": {
   "codemirror_mode": {
    "name": "ipython",
    "version": 3
   },
   "file_extension": ".py",
   "mimetype": "text/x-python",
   "name": "python",
   "nbconvert_exporter": "python",
   "pygments_lexer": "ipython3",
   "version": "3.6.13"
  }
 },
 "nbformat": 4,
 "nbformat_minor": 5
}
